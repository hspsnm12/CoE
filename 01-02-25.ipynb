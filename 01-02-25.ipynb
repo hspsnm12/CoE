{
 "cells": [
  {
   "cell_type": "code",
   "execution_count": 2,
   "id": "ef77c2a9",
   "metadata": {},
   "outputs": [
    {
     "name": "stdout",
     "output_type": "stream",
     "text": [
      "Collecting pymysql\n",
      "  Obtaining dependency information for pymysql from https://files.pythonhosted.org/packages/0c/94/e4181a1f6286f545507528c78016e00065ea913276888db2262507693ce5/PyMySQL-1.1.1-py3-none-any.whl.metadata\n",
      "  Downloading PyMySQL-1.1.1-py3-none-any.whl.metadata (4.4 kB)\n",
      "Downloading PyMySQL-1.1.1-py3-none-any.whl (44 kB)\n",
      "   ---------------------------------------- 0.0/45.0 kB ? eta -:--:--\n",
      "   --------------------------- ------------ 30.7/45.0 kB 660.6 kB/s eta 0:00:01\n",
      "   ---------------------------------------- 45.0/45.0 kB 739.0 kB/s eta 0:00:00\n",
      "Installing collected packages: pymysql\n",
      "Successfully installed pymysql-1.1.1\n",
      "Note: you may need to restart the kernel to use updated packages.\n"
     ]
    }
   ],
   "source": [
    "pip install pymysql"
   ]
  },
  {
   "cell_type": "code",
   "execution_count": 7,
   "id": "54b57711",
   "metadata": {},
   "outputs": [
    {
     "name": "stdout",
     "output_type": "stream",
     "text": [
      "    Sno     Sname  marks     city    mobile  gender  Course Grade  Age  \\\n",
      "0     1    HARINI     90      HYD  90343479  female  B.Tech     B   18   \n",
      "1     2    HASINI     95      BAN  90343479  female  M.Tech     C   19   \n",
      "2     3     SANIA     98     CHEN  90343779  female     MBA     C   22   \n",
      "3     4      TINA     80      GOA  98343779  female     MBA     D   19   \n",
      "4     5     ARUSH     82   PUNJAB  98348779    male     MBA     B   23   \n",
      "5     6   BHARGAV     84     PUNE  92218729    male     MBA     A   19   \n",
      "6     7  YASHASVI     86   KERALA  92238729    male  M.Tech     D   19   \n",
      "7     8   SAITEJA     88    DELHI  92238929    male  M.Tech     C   18   \n",
      "8     9   DHANUSH     89       UP  92248929    male     MBA     C   18   \n",
      "9    10    SATWIK     83       MP  92248929    male    B.Sc     C   22   \n",
      "10   11   DHEERAJ     85  KASHMIR  92288929    male    B.Sc     A   20   \n",
      "\n",
      "                 Email  \n",
      "0    user1@example.com  \n",
      "1    user2@example.com  \n",
      "2    user3@example.com  \n",
      "3    user4@example.com  \n",
      "4    user5@example.com  \n",
      "5    user6@example.com  \n",
      "6    user7@example.com  \n",
      "7    user8@example.com  \n",
      "8    user9@example.com  \n",
      "9   user10@example.com  \n",
      "10  user11@example.com  \n"
     ]
    }
   ],
   "source": [
    "import pandas as pd\n",
    "from sqlalchemy import create_engine\n",
    "import pymysql \n",
    "username = \"root\"\n",
    "password=\"1234\"\n",
    "host = \"localhost\"\n",
    "database = \"harini17\"\n",
    "connection_string = f'mysql+pymysql://{username}:{password}@{host}/{database}'\n",
    "engine = create_engine(connection_string)\n",
    "\n",
    "df_sql = pd.read_sql('SELECT * FROM details', engine)\n",
    "path= r\"C:\\22b81a1218\\1-02-25\\dummy_data.xlsx\"\n",
    "df2_excel = pd.read_excel(path)\n",
    "merged_df = pd.merge(df_sql,df2_excel,on='Sno',how='outer')\n",
    "# merge =  pd.merge(df_sql,df2_excel,on='Sno',how='outer')\n",
    "# print(merge)\n",
    "print(merged_df)\n"
   ]
  },
  {
   "cell_type": "code",
   "execution_count": 8,
   "id": "51eda10b",
   "metadata": {},
   "outputs": [
    {
     "name": "stdout",
     "output_type": "stream",
     "text": [
      "<class 'pandas.core.frame.DataFrame'>\n",
      "RangeIndex: 11 entries, 0 to 10\n",
      "Data columns (total 10 columns):\n",
      " #   Column  Non-Null Count  Dtype \n",
      "---  ------  --------------  ----- \n",
      " 0   Sno     11 non-null     int64 \n",
      " 1   Sname   11 non-null     object\n",
      " 2   marks   11 non-null     int64 \n",
      " 3   city    11 non-null     object\n",
      " 4   mobile  11 non-null     int64 \n",
      " 5   gender  11 non-null     object\n",
      " 6   Course  11 non-null     object\n",
      " 7   Grade   11 non-null     object\n",
      " 8   Age     11 non-null     int64 \n",
      " 9   Email   11 non-null     object\n",
      "dtypes: int64(4), object(6)\n",
      "memory usage: 1012.0+ bytes\n"
     ]
    }
   ],
   "source": [
    "merged_df.info()"
   ]
  },
  {
   "cell_type": "code",
   "execution_count": 10,
   "id": "5d571548",
   "metadata": {},
   "outputs": [],
   "source": [
    "import numpy as np\n",
    "merged_df['Sno'] = merged_df['Sno'].astype(np.int16)"
   ]
  },
  {
   "cell_type": "code",
   "execution_count": 11,
   "id": "417bc769",
   "metadata": {},
   "outputs": [
    {
     "name": "stdout",
     "output_type": "stream",
     "text": [
      "<class 'pandas.core.series.Series'>\n",
      "RangeIndex: 11 entries, 0 to 10\n",
      "Series name: Sno\n",
      "Non-Null Count  Dtype\n",
      "--------------  -----\n",
      "11 non-null     int16\n",
      "dtypes: int16(1)\n",
      "memory usage: 154.0 bytes\n"
     ]
    }
   ],
   "source": [
    "merged_df['Sno'].info()"
   ]
  },
  {
   "cell_type": "code",
   "execution_count": 12,
   "id": "cd3a7020",
   "metadata": {},
   "outputs": [],
   "source": [
    "merged_df['marks'] = merged_df['marks'].astype(np.int16)"
   ]
  },
  {
   "cell_type": "code",
   "execution_count": 13,
   "id": "79bcd88c",
   "metadata": {},
   "outputs": [],
   "source": [
    "merged_df['Age'] = merged_df['Age'].astype(np.int16)"
   ]
  },
  {
   "cell_type": "code",
   "execution_count": 14,
   "id": "984e8cb1",
   "metadata": {},
   "outputs": [
    {
     "data": {
      "text/plain": [
       "Index     132\n",
       "Sno        22\n",
       "Sname     695\n",
       "marks      22\n",
       "city      672\n",
       "mobile     88\n",
       "gender    679\n",
       "Course    674\n",
       "Grade     638\n",
       "Age        22\n",
       "Email     816\n",
       "dtype: int64"
      ]
     },
     "execution_count": 14,
     "metadata": {},
     "output_type": "execute_result"
    }
   ],
   "source": [
    "merged_df.memory_usage(deep=True)"
   ]
  },
  {
   "cell_type": "code",
   "execution_count": 16,
   "id": "75591ef6",
   "metadata": {},
   "outputs": [
    {
     "data": {
      "text/plain": [
       "Index     132\n",
       "Sno        22\n",
       "Sname      88\n",
       "marks      22\n",
       "city       88\n",
       "mobile     88\n",
       "gender     88\n",
       "Course     88\n",
       "Grade      88\n",
       "Age        22\n",
       "Email      88\n",
       "dtype: int64"
      ]
     },
     "execution_count": 16,
     "metadata": {},
     "output_type": "execute_result"
    }
   ],
   "source": [
    "merged_df.memory_usage()"
   ]
  },
  {
   "cell_type": "code",
   "execution_count": 15,
   "id": "26e43e46",
   "metadata": {},
   "outputs": [
    {
     "name": "stdout",
     "output_type": "stream",
     "text": [
      "<class 'pandas.core.frame.DataFrame'>\n",
      "RangeIndex: 11 entries, 0 to 10\n",
      "Data columns (total 10 columns):\n",
      " #   Column  Non-Null Count  Dtype \n",
      "---  ------  --------------  ----- \n",
      " 0   Sno     11 non-null     int16 \n",
      " 1   Sname   11 non-null     object\n",
      " 2   marks   11 non-null     int16 \n",
      " 3   city    11 non-null     object\n",
      " 4   mobile  11 non-null     int64 \n",
      " 5   gender  11 non-null     object\n",
      " 6   Course  11 non-null     object\n",
      " 7   Grade   11 non-null     object\n",
      " 8   Age     11 non-null     int16 \n",
      " 9   Email   11 non-null     object\n",
      "dtypes: int16(3), int64(1), object(6)\n",
      "memory usage: 814.0+ bytes\n"
     ]
    }
   ],
   "source": [
    "merged_df.info()"
   ]
  },
  {
   "cell_type": "code",
   "execution_count": 19,
   "id": "935df4f7",
   "metadata": {},
   "outputs": [],
   "source": [
    "merged_df['city'] = merged_df['city'].astype('category')"
   ]
  },
  {
   "cell_type": "code",
   "execution_count": 20,
   "id": "74d4813a",
   "metadata": {},
   "outputs": [
    {
     "name": "stdout",
     "output_type": "stream",
     "text": [
      "<class 'pandas.core.frame.DataFrame'>\n",
      "RangeIndex: 11 entries, 0 to 10\n",
      "Data columns (total 10 columns):\n",
      " #   Column  Non-Null Count  Dtype   \n",
      "---  ------  --------------  -----   \n",
      " 0   Sno     11 non-null     int16   \n",
      " 1   Sname   11 non-null     object  \n",
      " 2   marks   11 non-null     int16   \n",
      " 3   city    11 non-null     category\n",
      " 4   mobile  11 non-null     int64   \n",
      " 5   gender  11 non-null     object  \n",
      " 6   Course  11 non-null     object  \n",
      " 7   Grade   11 non-null     object  \n",
      " 8   Age     11 non-null     int16   \n",
      " 9   Email   11 non-null     object  \n",
      "dtypes: category(1), int16(3), int64(1), object(5)\n",
      "memory usage: 1.1+ KB\n"
     ]
    }
   ],
   "source": [
    "merged_df.info()"
   ]
  },
  {
   "cell_type": "code",
   "execution_count": null,
   "id": "044cf050",
   "metadata": {},
   "outputs": [],
   "source": []
  }
 ],
 "metadata": {
  "kernelspec": {
   "display_name": "Python 3 (ipykernel)",
   "language": "python",
   "name": "python3"
  },
  "language_info": {
   "codemirror_mode": {
    "name": "ipython",
    "version": 3
   },
   "file_extension": ".py",
   "mimetype": "text/x-python",
   "name": "python",
   "nbconvert_exporter": "python",
   "pygments_lexer": "ipython3",
   "version": "3.11.5"
  }
 },
 "nbformat": 4,
 "nbformat_minor": 5
}
