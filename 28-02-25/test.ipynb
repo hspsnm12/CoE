{
 "cells": [
  {
   "cell_type": "code",
   "execution_count": 1,
   "metadata": {},
   "outputs": [
    {
     "name": "stdout",
     "output_type": "stream",
     "text": [
      "Requirement already satisfied: pandas in c:\\users\\cvr\\appdata\\local\\programs\\python\\python312\\lib\\site-packages (2.2.3)\n",
      "Requirement already satisfied: numpy>=1.26.0 in c:\\users\\cvr\\appdata\\local\\programs\\python\\python312\\lib\\site-packages (from pandas) (2.2.3)\n",
      "Requirement already satisfied: python-dateutil>=2.8.2 in c:\\users\\cvr\\appdata\\roaming\\python\\python312\\site-packages (from pandas) (2.9.0.post0)\n",
      "Requirement already satisfied: pytz>=2020.1 in c:\\users\\cvr\\appdata\\local\\programs\\python\\python312\\lib\\site-packages (from pandas) (2025.1)\n",
      "Requirement already satisfied: tzdata>=2022.7 in c:\\users\\cvr\\appdata\\local\\programs\\python\\python312\\lib\\site-packages (from pandas) (2025.1)\n",
      "Requirement already satisfied: six>=1.5 in c:\\users\\cvr\\appdata\\roaming\\python\\python312\\site-packages (from python-dateutil>=2.8.2->pandas) (1.17.0)\n",
      "Note: you may need to restart the kernel to use updated packages.\n"
     ]
    },
    {
     "name": "stderr",
     "output_type": "stream",
     "text": [
      "\n",
      "[notice] A new release of pip is available: 24.1.1 -> 25.0.1\n",
      "[notice] To update, run: python.exe -m pip install --upgrade pip\n"
     ]
    }
   ],
   "source": [
    "pip install pandas\n"
   ]
  },
  {
   "cell_type": "code",
   "execution_count": 3,
   "metadata": {},
   "outputs": [
    {
     "data": {
      "text/html": [
       "<div>\n",
       "<style scoped>\n",
       "    .dataframe tbody tr th:only-of-type {\n",
       "        vertical-align: middle;\n",
       "    }\n",
       "\n",
       "    .dataframe tbody tr th {\n",
       "        vertical-align: top;\n",
       "    }\n",
       "\n",
       "    .dataframe thead th {\n",
       "        text-align: right;\n",
       "    }\n",
       "</style>\n",
       "<table border=\"1\" class=\"dataframe\">\n",
       "  <thead>\n",
       "    <tr style=\"text-align: right;\">\n",
       "      <th></th>\n",
       "      <th>weight</th>\n",
       "      <th>height</th>\n",
       "    </tr>\n",
       "  </thead>\n",
       "  <tbody>\n",
       "    <tr>\n",
       "      <th>0</th>\n",
       "      <td>40.0</td>\n",
       "      <td>156.0</td>\n",
       "    </tr>\n",
       "    <tr>\n",
       "      <th>1</th>\n",
       "      <td>45.0</td>\n",
       "      <td>163.0</td>\n",
       "    </tr>\n",
       "    <tr>\n",
       "      <th>2</th>\n",
       "      <td>50.0</td>\n",
       "      <td>150.0</td>\n",
       "    </tr>\n",
       "    <tr>\n",
       "      <th>3</th>\n",
       "      <td>51.0</td>\n",
       "      <td>142.0</td>\n",
       "    </tr>\n",
       "    <tr>\n",
       "      <th>4</th>\n",
       "      <td>56.0</td>\n",
       "      <td>142.0</td>\n",
       "    </tr>\n",
       "    <tr>\n",
       "      <th>5</th>\n",
       "      <td>59.8</td>\n",
       "      <td>155.9</td>\n",
       "    </tr>\n",
       "    <tr>\n",
       "      <th>6</th>\n",
       "      <td>63.6</td>\n",
       "      <td>161.0</td>\n",
       "    </tr>\n",
       "    <tr>\n",
       "      <th>7</th>\n",
       "      <td>67.4</td>\n",
       "      <td>146.1</td>\n",
       "    </tr>\n",
       "    <tr>\n",
       "      <th>8</th>\n",
       "      <td>71.2</td>\n",
       "      <td>161.2</td>\n",
       "    </tr>\n",
       "    <tr>\n",
       "      <th>9</th>\n",
       "      <td>75.0</td>\n",
       "      <td>146.3</td>\n",
       "    </tr>\n",
       "    <tr>\n",
       "      <th>10</th>\n",
       "      <td>78.8</td>\n",
       "      <td>131.4</td>\n",
       "    </tr>\n",
       "    <tr>\n",
       "      <th>11</th>\n",
       "      <td>82.6</td>\n",
       "      <td>136.5</td>\n",
       "    </tr>\n",
       "    <tr>\n",
       "      <th>12</th>\n",
       "      <td>86.4</td>\n",
       "      <td>141.6</td>\n",
       "    </tr>\n",
       "    <tr>\n",
       "      <th>13</th>\n",
       "      <td>90.2</td>\n",
       "      <td>156.7</td>\n",
       "    </tr>\n",
       "    <tr>\n",
       "      <th>14</th>\n",
       "      <td>94.0</td>\n",
       "      <td>141.8</td>\n",
       "    </tr>\n",
       "    <tr>\n",
       "      <th>15</th>\n",
       "      <td>97.8</td>\n",
       "      <td>156.9</td>\n",
       "    </tr>\n",
       "    <tr>\n",
       "      <th>16</th>\n",
       "      <td>101.6</td>\n",
       "      <td>182.0</td>\n",
       "    </tr>\n",
       "    <tr>\n",
       "      <th>17</th>\n",
       "      <td>105.4</td>\n",
       "      <td>177.1</td>\n",
       "    </tr>\n",
       "    <tr>\n",
       "      <th>18</th>\n",
       "      <td>109.2</td>\n",
       "      <td>172.2</td>\n",
       "    </tr>\n",
       "    <tr>\n",
       "      <th>19</th>\n",
       "      <td>113.0</td>\n",
       "      <td>167.3</td>\n",
       "    </tr>\n",
       "  </tbody>\n",
       "</table>\n",
       "</div>"
      ],
      "text/plain": [
       "    weight  height\n",
       "0     40.0   156.0\n",
       "1     45.0   163.0\n",
       "2     50.0   150.0\n",
       "3     51.0   142.0\n",
       "4     56.0   142.0\n",
       "5     59.8   155.9\n",
       "6     63.6   161.0\n",
       "7     67.4   146.1\n",
       "8     71.2   161.2\n",
       "9     75.0   146.3\n",
       "10    78.8   131.4\n",
       "11    82.6   136.5\n",
       "12    86.4   141.6\n",
       "13    90.2   156.7\n",
       "14    94.0   141.8\n",
       "15    97.8   156.9\n",
       "16   101.6   182.0\n",
       "17   105.4   177.1\n",
       "18   109.2   172.2\n",
       "19   113.0   167.3"
      ]
     },
     "execution_count": 3,
     "metadata": {},
     "output_type": "execute_result"
    }
   ],
   "source": [
    "import pandas as pd\n",
    "data = pd.read_csv(\"Book1.csv\")\n",
    "data"
   ]
  },
  {
   "cell_type": "code",
   "execution_count": 4,
   "metadata": {},
   "outputs": [
    {
     "name": "stdout",
     "output_type": "stream",
     "text": [
      "Collecting matplot\n",
      "  Downloading matplot-0.1.9-py2.py3-none-any.whl.metadata (241 bytes)\n",
      "Collecting pyloco>=0.0.134 (from matplot)\n",
      "  Downloading pyloco-0.0.139-py2.py3-none-any.whl.metadata (1.1 kB)\n",
      "Requirement already satisfied: matplotlib>=3.1.1 in c:\\users\\cvr\\appdata\\local\\programs\\python\\python312\\lib\\site-packages (from matplot) (3.10.0)\n",
      "Requirement already satisfied: contourpy>=1.0.1 in c:\\users\\cvr\\appdata\\local\\programs\\python\\python312\\lib\\site-packages (from matplotlib>=3.1.1->matplot) (1.3.1)\n",
      "Requirement already satisfied: cycler>=0.10 in c:\\users\\cvr\\appdata\\local\\programs\\python\\python312\\lib\\site-packages (from matplotlib>=3.1.1->matplot) (0.12.1)\n",
      "Requirement already satisfied: fonttools>=4.22.0 in c:\\users\\cvr\\appdata\\local\\programs\\python\\python312\\lib\\site-packages (from matplotlib>=3.1.1->matplot) (4.56.0)\n",
      "Requirement already satisfied: kiwisolver>=1.3.1 in c:\\users\\cvr\\appdata\\local\\programs\\python\\python312\\lib\\site-packages (from matplotlib>=3.1.1->matplot) (1.4.8)\n",
      "Requirement already satisfied: numpy>=1.23 in c:\\users\\cvr\\appdata\\local\\programs\\python\\python312\\lib\\site-packages (from matplotlib>=3.1.1->matplot) (2.2.3)\n",
      "Requirement already satisfied: packaging>=20.0 in c:\\users\\cvr\\appdata\\roaming\\python\\python312\\site-packages (from matplotlib>=3.1.1->matplot) (24.2)\n",
      "Requirement already satisfied: pillow>=8 in c:\\users\\cvr\\appdata\\local\\programs\\python\\python312\\lib\\site-packages (from matplotlib>=3.1.1->matplot) (11.1.0)\n",
      "Requirement already satisfied: pyparsing>=2.3.1 in c:\\users\\cvr\\appdata\\local\\programs\\python\\python312\\lib\\site-packages (from matplotlib>=3.1.1->matplot) (3.2.1)\n",
      "Requirement already satisfied: python-dateutil>=2.7 in c:\\users\\cvr\\appdata\\roaming\\python\\python312\\site-packages (from matplotlib>=3.1.1->matplot) (2.9.0.post0)\n",
      "Collecting ushlex (from pyloco>=0.0.134->matplot)\n",
      "  Downloading ushlex-0.99.1.tar.gz (4.7 kB)\n",
      "  Installing build dependencies: started\n",
      "  Installing build dependencies: finished with status 'done'\n",
      "  Getting requirements to build wheel: started\n",
      "  Getting requirements to build wheel: finished with status 'done'\n",
      "  Preparing metadata (pyproject.toml): started\n",
      "  Preparing metadata (pyproject.toml): finished with status 'done'\n",
      "Collecting websocket-client (from pyloco>=0.0.134->matplot)\n",
      "  Downloading websocket_client-1.8.0-py3-none-any.whl.metadata (8.0 kB)\n",
      "Collecting twine (from pyloco>=0.0.134->matplot)\n",
      "  Downloading twine-6.1.0-py3-none-any.whl.metadata (3.7 kB)\n",
      "Collecting typing (from pyloco>=0.0.134->matplot)\n",
      "  Downloading typing-3.7.4.3.tar.gz (78 kB)\n",
      "     ---------------------------------------- 0.0/78.6 kB ? eta -:--:--\n",
      "     ---------------------------------------- 78.6/78.6 kB 4.6 MB/s eta 0:00:00\n",
      "  Installing build dependencies: started\n",
      "  Installing build dependencies: finished with status 'done'\n",
      "  Getting requirements to build wheel: started\n",
      "  Getting requirements to build wheel: finished with status 'done'\n",
      "  Preparing metadata (pyproject.toml): started\n",
      "  Preparing metadata (pyproject.toml): finished with status 'done'\n",
      "Collecting SimpleWebSocketServer (from pyloco>=0.0.134->matplot)\n",
      "  Downloading SimpleWebSocketServer-0.1.2.tar.gz (10 kB)\n",
      "  Installing build dependencies: started\n",
      "  Installing build dependencies: finished with status 'done'\n",
      "  Getting requirements to build wheel: started\n",
      "  Getting requirements to build wheel: finished with status 'done'\n",
      "  Preparing metadata (pyproject.toml): started\n",
      "  Preparing metadata (pyproject.toml): finished with status 'done'\n",
      "Requirement already satisfied: six>=1.5 in c:\\users\\cvr\\appdata\\roaming\\python\\python312\\site-packages (from python-dateutil>=2.7->matplotlib>=3.1.1->matplot) (1.17.0)\n",
      "Collecting readme-renderer>=35.0 (from twine->pyloco>=0.0.134->matplot)\n",
      "  Downloading readme_renderer-44.0-py3-none-any.whl.metadata (2.8 kB)\n",
      "Requirement already satisfied: requests>=2.20 in c:\\users\\cvr\\appdata\\local\\programs\\python\\python312\\lib\\site-packages (from twine->pyloco>=0.0.134->matplot) (2.32.3)\n",
      "Collecting requests-toolbelt!=0.9.0,>=0.8.0 (from twine->pyloco>=0.0.134->matplot)\n",
      "  Downloading requests_toolbelt-1.0.0-py2.py3-none-any.whl.metadata (14 kB)\n",
      "Requirement already satisfied: urllib3>=1.26.0 in c:\\users\\cvr\\appdata\\local\\programs\\python\\python312\\lib\\site-packages (from twine->pyloco>=0.0.134->matplot) (2.3.0)\n",
      "Collecting keyring>=15.1 (from twine->pyloco>=0.0.134->matplot)\n",
      "  Downloading keyring-25.6.0-py3-none-any.whl.metadata (20 kB)\n",
      "Collecting rfc3986>=1.4.0 (from twine->pyloco>=0.0.134->matplot)\n",
      "  Downloading rfc3986-2.0.0-py2.py3-none-any.whl.metadata (6.6 kB)\n",
      "Requirement already satisfied: rich>=12.0.0 in c:\\users\\cvr\\appdata\\local\\programs\\python\\python312\\lib\\site-packages (from twine->pyloco>=0.0.134->matplot) (13.9.4)\n",
      "Collecting id (from twine->pyloco>=0.0.134->matplot)\n",
      "  Downloading id-1.5.0-py3-none-any.whl.metadata (5.2 kB)\n",
      "Collecting pywin32-ctypes>=0.2.0 (from keyring>=15.1->twine->pyloco>=0.0.134->matplot)\n",
      "  Downloading pywin32_ctypes-0.2.3-py3-none-any.whl.metadata (3.9 kB)\n",
      "Collecting jaraco.classes (from keyring>=15.1->twine->pyloco>=0.0.134->matplot)\n",
      "  Downloading jaraco.classes-3.4.0-py3-none-any.whl.metadata (2.6 kB)\n",
      "Collecting jaraco.functools (from keyring>=15.1->twine->pyloco>=0.0.134->matplot)\n",
      "  Downloading jaraco.functools-4.1.0-py3-none-any.whl.metadata (2.9 kB)\n",
      "Collecting jaraco.context (from keyring>=15.1->twine->pyloco>=0.0.134->matplot)\n",
      "  Downloading jaraco.context-6.0.1-py3-none-any.whl.metadata (4.1 kB)\n",
      "Collecting nh3>=0.2.14 (from readme-renderer>=35.0->twine->pyloco>=0.0.134->matplot)\n",
      "  Downloading nh3-0.2.21-cp38-abi3-win_amd64.whl.metadata (2.1 kB)\n",
      "Collecting docutils>=0.21.2 (from readme-renderer>=35.0->twine->pyloco>=0.0.134->matplot)\n",
      "  Downloading docutils-0.21.2-py3-none-any.whl.metadata (2.8 kB)\n",
      "Requirement already satisfied: Pygments>=2.5.1 in c:\\users\\cvr\\appdata\\roaming\\python\\python312\\site-packages (from readme-renderer>=35.0->twine->pyloco>=0.0.134->matplot) (2.19.1)\n",
      "Requirement already satisfied: charset-normalizer<4,>=2 in c:\\users\\cvr\\appdata\\local\\programs\\python\\python312\\lib\\site-packages (from requests>=2.20->twine->pyloco>=0.0.134->matplot) (3.4.1)\n",
      "Requirement already satisfied: idna<4,>=2.5 in c:\\users\\cvr\\appdata\\local\\programs\\python\\python312\\lib\\site-packages (from requests>=2.20->twine->pyloco>=0.0.134->matplot) (3.10)\n",
      "Requirement already satisfied: certifi>=2017.4.17 in c:\\users\\cvr\\appdata\\local\\programs\\python\\python312\\lib\\site-packages (from requests>=2.20->twine->pyloco>=0.0.134->matplot) (2025.1.31)\n",
      "Requirement already satisfied: markdown-it-py>=2.2.0 in c:\\users\\cvr\\appdata\\local\\programs\\python\\python312\\lib\\site-packages (from rich>=12.0.0->twine->pyloco>=0.0.134->matplot) (3.0.0)\n",
      "Requirement already satisfied: mdurl~=0.1 in c:\\users\\cvr\\appdata\\local\\programs\\python\\python312\\lib\\site-packages (from markdown-it-py>=2.2.0->rich>=12.0.0->twine->pyloco>=0.0.134->matplot) (0.1.2)\n",
      "Collecting more-itertools (from jaraco.classes->keyring>=15.1->twine->pyloco>=0.0.134->matplot)\n",
      "  Downloading more_itertools-10.6.0-py3-none-any.whl.metadata (37 kB)\n",
      "Downloading matplot-0.1.9-py2.py3-none-any.whl (5.0 kB)\n",
      "Downloading pyloco-0.0.139-py2.py3-none-any.whl (60 kB)\n",
      "   ---------------------------------------- 0.0/60.2 kB ? eta -:--:--\n",
      "   ---------------------------------------- 60.2/60.2 kB 1.6 MB/s eta 0:00:00\n",
      "Downloading twine-6.1.0-py3-none-any.whl (40 kB)\n",
      "   ---------------------------------------- 0.0/40.8 kB ? eta -:--:--\n",
      "   ---------------------------------------- 40.8/40.8 kB ? eta 0:00:00\n",
      "Downloading websocket_client-1.8.0-py3-none-any.whl (58 kB)\n",
      "   ---------------------------------------- 0.0/58.8 kB ? eta -:--:--\n",
      "   ---------------------------------------- 58.8/58.8 kB ? eta 0:00:00\n",
      "Downloading keyring-25.6.0-py3-none-any.whl (39 kB)\n",
      "Downloading readme_renderer-44.0-py3-none-any.whl (13 kB)\n",
      "Downloading requests_toolbelt-1.0.0-py2.py3-none-any.whl (54 kB)\n",
      "   ---------------------------------------- 0.0/54.5 kB ? eta -:--:--\n",
      "   ---------------------------------------- 54.5/54.5 kB 2.8 MB/s eta 0:00:00\n",
      "Downloading rfc3986-2.0.0-py2.py3-none-any.whl (31 kB)\n",
      "Downloading id-1.5.0-py3-none-any.whl (13 kB)\n",
      "Downloading docutils-0.21.2-py3-none-any.whl (587 kB)\n",
      "   ---------------------------------------- 0.0/587.4 kB ? eta -:--:--\n",
      "   ---------------- ----------------------- 235.5/587.4 kB 7.3 MB/s eta 0:00:01\n",
      "   ------------------------------ --------- 450.6/587.4 kB 5.6 MB/s eta 0:00:01\n",
      "   ---------------------------------------- 587.4/587.4 kB 4.6 MB/s eta 0:00:00\n",
      "Downloading nh3-0.2.21-cp38-abi3-win_amd64.whl (535 kB)\n",
      "   ---------------------------------------- 0.0/535.3 kB ? eta -:--:--\n",
      "   ------- -------------------------------- 102.4/535.3 kB 3.0 MB/s eta 0:00:01\n",
      "   ----------------- ---------------------- 235.5/535.3 kB 2.9 MB/s eta 0:00:01\n",
      "   ---------------------- ----------------- 297.0/535.3 kB 2.6 MB/s eta 0:00:01\n",
      "   --------------------------- ------------ 368.6/535.3 kB 2.1 MB/s eta 0:00:01\n",
      "   ------------------------------ --------- 409.6/535.3 kB 1.8 MB/s eta 0:00:01\n",
      "   -------------------------------- ------- 430.1/535.3 kB 1.8 MB/s eta 0:00:01\n",
      "   -------------------------------- ------- 430.1/535.3 kB 1.8 MB/s eta 0:00:01\n",
      "   -------------------------------------- - 512.0/535.3 kB 1.5 MB/s eta 0:00:01\n",
      "   ---------------------------------------  532.5/535.3 kB 1.5 MB/s eta 0:00:01\n",
      "   ---------------------------------------  532.5/535.3 kB 1.5 MB/s eta 0:00:01\n",
      "   ---------------------------------------  532.5/535.3 kB 1.5 MB/s eta 0:00:01\n",
      "   ---------------------------------------  532.5/535.3 kB 1.5 MB/s eta 0:00:01\n",
      "   ---------------------------------------  532.5/535.3 kB 1.5 MB/s eta 0:00:01\n",
      "   ---------------------------------------  532.5/535.3 kB 1.5 MB/s eta 0:00:01\n",
      "   -------------------------------------- 535.3/535.3 kB 781.3 kB/s eta 0:00:00\n",
      "Downloading pywin32_ctypes-0.2.3-py3-none-any.whl (30 kB)\n",
      "Downloading jaraco.classes-3.4.0-py3-none-any.whl (6.8 kB)\n",
      "Downloading jaraco.context-6.0.1-py3-none-any.whl (6.8 kB)\n",
      "Downloading jaraco.functools-4.1.0-py3-none-any.whl (10 kB)\n",
      "Downloading more_itertools-10.6.0-py3-none-any.whl (63 kB)\n",
      "   ---------------------------------------- 0.0/63.0 kB ? eta -:--:--\n",
      "   ---------------------------------------- 63.0/63.0 kB 1.7 MB/s eta 0:00:00\n",
      "Building wheels for collected packages: SimpleWebSocketServer, typing, ushlex\n",
      "  Building wheel for SimpleWebSocketServer (pyproject.toml): started\n",
      "  Building wheel for SimpleWebSocketServer (pyproject.toml): finished with status 'done'\n",
      "  Created wheel for SimpleWebSocketServer: filename=simplewebsocketserver-0.1.2-py3-none-any.whl size=9739 sha256=df520e11e58ea2bb06403ca77e32ba1b16c96453cd2cd3417484f3bbe9a76425\n",
      "  Stored in directory: c:\\users\\cvr\\appdata\\local\\pip\\cache\\wheels\\81\\fd\\d8\\f145b47bedceb5dff96b76e404a4ee9be956a4f8f150cd8133\n",
      "  Building wheel for typing (pyproject.toml): started\n",
      "  Building wheel for typing (pyproject.toml): finished with status 'done'\n",
      "  Created wheel for typing: filename=typing-3.7.4.3-py3-none-any.whl size=26389 sha256=2744f30b8986ff7fa456e045f1dd31ffe56a00b636847eaf9a04787ef41f6e76\n",
      "  Stored in directory: c:\\users\\cvr\\appdata\\local\\pip\\cache\\wheels\\12\\98\\52\\2bffe242a9a487f00886e43b8ed8dac46456702e11a0d6abef\n",
      "  Building wheel for ushlex (pyproject.toml): started\n",
      "  Building wheel for ushlex (pyproject.toml): finished with status 'done'\n",
      "  Created wheel for ushlex: filename=ushlex-0.99.1-py3-none-any.whl size=4444 sha256=a24b79dd05ccae3c416afdf1f8a34c47d72b22fefabfffa98ddbc7bb0a30eae2\n",
      "  Stored in directory: c:\\users\\cvr\\appdata\\local\\pip\\cache\\wheels\\42\\29\\49\\bde2276505cc99295263e8ab2fbfd83162b3380b4b571b03bc\n",
      "Successfully built SimpleWebSocketServer typing ushlex\n",
      "Installing collected packages: ushlex, SimpleWebSocketServer, websocket-client, typing, rfc3986, pywin32-ctypes, nh3, more-itertools, jaraco.context, docutils, requests-toolbelt, readme-renderer, jaraco.functools, jaraco.classes, id, keyring, twine, pyloco, matplot\n",
      "Successfully installed SimpleWebSocketServer-0.1.2 docutils-0.21.2 id-1.5.0 jaraco.classes-3.4.0 jaraco.context-6.0.1 jaraco.functools-4.1.0 keyring-25.6.0 matplot-0.1.9 more-itertools-10.6.0 nh3-0.2.21 pyloco-0.0.139 pywin32-ctypes-0.2.3 readme-renderer-44.0 requests-toolbelt-1.0.0 rfc3986-2.0.0 twine-6.1.0 typing-3.7.4.3 ushlex-0.99.1 websocket-client-1.8.0\n",
      "Note: you may need to restart the kernel to use updated packages.\n"
     ]
    },
    {
     "name": "stderr",
     "output_type": "stream",
     "text": [
      "\n",
      "[notice] A new release of pip is available: 24.1.1 -> 25.0.1\n",
      "[notice] To update, run: python.exe -m pip install --upgrade pip\n"
     ]
    }
   ],
   "source": [
    "pip install matplot"
   ]
  },
  {
   "cell_type": "code",
   "execution_count": 5,
   "metadata": {},
   "outputs": [
    {
     "name": "stdout",
     "output_type": "stream",
     "text": [
      "Requirement already satisfied: matplotlib in c:\\users\\cvr\\appdata\\local\\programs\\python\\python312\\lib\\site-packages (3.10.0)Note: you may need to restart the kernel to use updated packages.\n"
     ]
    },
    {
     "name": "stderr",
     "output_type": "stream",
     "text": [
      "\n",
      "[notice] A new release of pip is available: 24.1.1 -> 25.0.1\n",
      "[notice] To update, run: python.exe -m pip install --upgrade pip\n"
     ]
    },
    {
     "name": "stdout",
     "output_type": "stream",
     "text": [
      "\n",
      "Requirement already satisfied: contourpy>=1.0.1 in c:\\users\\cvr\\appdata\\local\\programs\\python\\python312\\lib\\site-packages (from matplotlib) (1.3.1)\n",
      "Requirement already satisfied: cycler>=0.10 in c:\\users\\cvr\\appdata\\local\\programs\\python\\python312\\lib\\site-packages (from matplotlib) (0.12.1)\n",
      "Requirement already satisfied: fonttools>=4.22.0 in c:\\users\\cvr\\appdata\\local\\programs\\python\\python312\\lib\\site-packages (from matplotlib) (4.56.0)\n",
      "Requirement already satisfied: kiwisolver>=1.3.1 in c:\\users\\cvr\\appdata\\local\\programs\\python\\python312\\lib\\site-packages (from matplotlib) (1.4.8)\n",
      "Requirement already satisfied: numpy>=1.23 in c:\\users\\cvr\\appdata\\local\\programs\\python\\python312\\lib\\site-packages (from matplotlib) (2.2.3)\n",
      "Requirement already satisfied: packaging>=20.0 in c:\\users\\cvr\\appdata\\roaming\\python\\python312\\site-packages (from matplotlib) (24.2)\n",
      "Requirement already satisfied: pillow>=8 in c:\\users\\cvr\\appdata\\local\\programs\\python\\python312\\lib\\site-packages (from matplotlib) (11.1.0)\n",
      "Requirement already satisfied: pyparsing>=2.3.1 in c:\\users\\cvr\\appdata\\local\\programs\\python\\python312\\lib\\site-packages (from matplotlib) (3.2.1)\n",
      "Requirement already satisfied: python-dateutil>=2.7 in c:\\users\\cvr\\appdata\\roaming\\python\\python312\\site-packages (from matplotlib) (2.9.0.post0)\n",
      "Requirement already satisfied: six>=1.5 in c:\\users\\cvr\\appdata\\roaming\\python\\python312\\site-packages (from python-dateutil>=2.7->matplotlib) (1.17.0)\n"
     ]
    }
   ],
   "source": [
    "pip install matplotlib\n"
   ]
  },
  {
   "cell_type": "code",
   "execution_count": 8,
   "metadata": {},
   "outputs": [],
   "source": [
    "import matplotlib.pyplot as plt"
   ]
  },
  {
   "cell_type": "code",
   "execution_count": 10,
   "metadata": {},
   "outputs": [
    {
     "data": {
      "image/png": "[encoded data removed]",
      "text/plain": [
       "<Figure size 640x480 with 1 Axes>"
      ]
     },
     "metadata": {},
     "output_type": "display_data"
    }
   ],
   "source": [
    "plt.scatter(data['weight'], data['height'])\n",
    "\n",
    "plt.xlabel('Weight')\n",
    "plt.ylabel('Height')\n",
    "plt.title('Scatter plot of Weight vs. Height')\n",
    "\n",
    "plt.show()"
   ]
  },
  {
   "cell_type": "code",
   "execution_count": 11,
   "metadata": {},
   "outputs": [
    {
     "name": "stdout",
     "output_type": "stream",
     "text": [
      "Requirement already satisfied: seaborn in c:\\users\\cvr\\appdata\\local\\programs\\python\\python312\\lib\\site-packages (0.13.2)\n",
      "Requirement already satisfied: numpy!=1.24.0,>=1.20 in c:\\users\\cvr\\appdata\\local\\programs\\python\\python312\\lib\\site-packages (from seaborn) (2.2.3)\n",
      "Requirement already satisfied: pandas>=1.2 in c:\\users\\cvr\\appdata\\local\\programs\\python\\python312\\lib\\site-packages (from seaborn) (2.2.3)\n",
      "Requirement already satisfied: matplotlib!=3.6.1,>=3.4 in c:\\users\\cvr\\appdata\\local\\programs\\python\\python312\\lib\\site-packages (from seaborn) (3.10.0)\n",
      "Requirement already satisfied: contourpy>=1.0.1 in c:\\users\\cvr\\appdata\\local\\programs\\python\\python312\\lib\\site-packages (from matplotlib!=3.6.1,>=3.4->seaborn) (1.3.1)\n",
      "Requirement already satisfied: cycler>=0.10 in c:\\users\\cvr\\appdata\\local\\programs\\python\\python312\\lib\\site-packages (from matplotlib!=3.6.1,>=3.4->seaborn) (0.12.1)\n",
      "Requirement already satisfied: fonttools>=4.22.0 in c:\\users\\cvr\\appdata\\local\\programs\\python\\python312\\lib\\site-packages (from matplotlib!=3.6.1,>=3.4->seaborn) (4.56.0)\n",
      "Requirement already satisfied: kiwisolver>=1.3.1 in c:\\users\\cvr\\appdata\\local\\programs\\python\\python312\\lib\\site-packages (from matplotlib!=3.6.1,>=3.4->seaborn) (1.4.8)\n",
      "Requirement already satisfied: packaging>=20.0 in c:\\users\\cvr\\appdata\\roaming\\python\\python312\\site-packages (from matplotlib!=3.6.1,>=3.4->seaborn) (24.2)\n",
      "Requirement already satisfied: pillow>=8 in c:\\users\\cvr\\appdata\\local\\programs\\python\\python312\\lib\\site-packages (from matplotlib!=3.6.1,>=3.4->seaborn) (11.1.0)\n",
      "Requirement already satisfied: pyparsing>=2.3.1 in c:\\users\\cvr\\appdata\\local\\programs\\python\\python312\\lib\\site-packages (from matplotlib!=3.6.1,>=3.4->seaborn) (3.2.1)\n",
      "Requirement already satisfied: python-dateutil>=2.7 in c:\\users\\cvr\\appdata\\roaming\\python\\python312\\site-packages (from matplotlib!=3.6.1,>=3.4->seaborn) (2.9.0.post0)\n",
      "Requirement already satisfied: pytz>=2020.1 in c:\\users\\cvr\\appdata\\local\\programs\\python\\python312\\lib\\site-packages (from pandas>=1.2->seaborn) (2025.1)\n",
      "Requirement already satisfied: tzdata>=2022.7 in c:\\users\\cvr\\appdata\\local\\programs\\python\\python312\\lib\\site-packages (from pandas>=1.2->seaborn) (2025.1)\n",
      "Requirement already satisfied: six>=1.5 in c:\\users\\cvr\\appdata\\roaming\\python\\python312\\site-packages (from python-dateutil>=2.7->matplotlib!=3.6.1,>=3.4->seaborn) (1.17.0)\n",
      "Note: you may need to restart the kernel to use updated packages.\n"
     ]
    },
    {
     "name": "stderr",
     "output_type": "stream",
     "text": [
      "\n",
      "[notice] A new release of pip is available: 24.1.1 -> 25.0.1\n",
      "[notice] To update, run: python.exe -m pip install --upgrade pip\n"
     ]
    }
   ],
   "source": [
    "pip install seaborn"
   ]
  },
  {
   "cell_type": "code",
   "execution_count": 12,
   "metadata": {},
   "outputs": [
    {
     "data": {
      "image/png": "[encoded data removed]",
      "text/plain": [
       "<Figure size 1200x600 with 2 Axes>"
      ]
     },
     "metadata": {},
     "output_type": "display_data"
    }
   ],
   "source": [
    "plt.figure(figsize=(12, 6))\n",
    "\n",
    "plt.subplot(1, 2, 1)\n",
    "plt.hist(data['weight'], bins=10, edgecolor='black', color='skyblue')\n",
    "plt.title('Histogram of Weight')\n",
    "plt.xlabel('Weight')\n",
    "plt.ylabel('Frequency')\n",
    "\n",
    "plt.subplot(1, 2, 2)\n",
    "plt.hist(data['height'], bins=10, edgecolor='black', color='lightgreen')\n",
    "plt.title('Histogram of Height')\n",
    "plt.xlabel('Height')\n",
    "plt.ylabel('Frequency')\n",
    "\n",
    "plt.tight_layout()\n",
    "plt.show()"
   ]
  },
  {
   "cell_type": "code",
   "execution_count": 13,
   "metadata": {},
   "outputs": [
    {
     "data": {
      "text/html": [
       "<div>\n",
       "<style scoped>\n",
       "    .dataframe tbody tr th:only-of-type {\n",
       "        vertical-align: middle;\n",
       "    }\n",
       "\n",
       "    .dataframe tbody tr th {\n",
       "        vertical-align: top;\n",
       "    }\n",
       "\n",
       "    .dataframe thead th {\n",
       "        text-align: right;\n",
       "    }\n",
       "</style>\n",
       "<table border=\"1\" class=\"dataframe\">\n",
       "  <thead>\n",
       "    <tr style=\"text-align: right;\">\n",
       "      <th></th>\n",
       "      <th>weight</th>\n",
       "      <th>height</th>\n",
       "    </tr>\n",
       "  </thead>\n",
       "  <tbody>\n",
       "    <tr>\n",
       "      <th>weight</th>\n",
       "      <td>1.000000</td>\n",
       "      <td>0.388545</td>\n",
       "    </tr>\n",
       "    <tr>\n",
       "      <th>height</th>\n",
       "      <td>0.388545</td>\n",
       "      <td>1.000000</td>\n",
       "    </tr>\n",
       "  </tbody>\n",
       "</table>\n",
       "</div>"
      ],
      "text/plain": [
       "          weight    height\n",
       "weight  1.000000  0.388545\n",
       "height  0.388545  1.000000"
      ]
     },
     "execution_count": 13,
     "metadata": {},
     "output_type": "execute_result"
    }
   ],
   "source": [
    "data.corr()"
   ]
  },
  {
   "cell_type": "code",
   "execution_count": 15,
   "metadata": {},
   "outputs": [
    {
     "data": {
      "image/png": "[encoded data removed]",
      "text/plain": [
       "<Figure size 500x500 with 6 Axes>"
      ]
     },
     "metadata": {},
     "output_type": "display_data"
    }
   ],
   "source": [
    "import seaborn as sns\n",
    "sns.pairplot(data)\n",
    "plt.show()"
   ]
  },
  {
   "cell_type": "code",
   "execution_count": 17,
   "metadata": {},
   "outputs": [
    {
     "data": {
      "text/plain": [
       "pandas.core.series.Series"
      ]
     },
     "execution_count": 17,
     "metadata": {},
     "output_type": "execute_result"
    }
   ],
   "source": [
    "\n",
    "x= data['weight']\n",
    " \n",
    "type(x)\n",
    " "
   ]
  },
  {
   "cell_type": "code",
   "execution_count": 18,
   "metadata": {},
   "outputs": [
    {
     "name": "stdout",
     "output_type": "stream",
     "text": [
      "Collecting sklearn\n",
      "  Downloading sklearn-0.0.post12.tar.gz (2.6 kB)\n",
      "  Installing build dependencies: started\n",
      "  Installing build dependencies: finished with status 'done'\n",
      "  Getting requirements to build wheel: started\n",
      "  Getting requirements to build wheel: finished with status 'error'\n",
      "Note: you may need to restart the kernel to use updated packages.\n"
     ]
    },
    {
     "name": "stderr",
     "output_type": "stream",
     "text": [
      "  error: subprocess-exited-with-error\n",
      "  \n",
      "  × Getting requirements to build wheel did not run successfully.\n",
      "  │ exit code: 1\n",
      "  ╰─> [15 lines of output]\n",
      "      The 'sklearn' PyPI package is deprecated, use 'scikit-learn'\n",
      "      rather than 'sklearn' for pip commands.\n",
      "      \n",
      "      Here is how to fix this error in the main use cases:\n",
      "      - use 'pip install scikit-learn' rather than 'pip install sklearn'\n",
      "      - replace 'sklearn' by 'scikit-learn' in your pip requirements files\n",
      "        (requirements.txt, setup.py, setup.cfg, Pipfile, etc ...)\n",
      "      - if the 'sklearn' package is used by one of your dependencies,\n",
      "        it would be great if you take some time to track which package uses\n",
      "        'sklearn' instead of 'scikit-learn' and report it to their issue tracker\n",
      "      - as a last resort, set the environment variable\n",
      "        SKLEARN_ALLOW_DEPRECATED_SKLEARN_PACKAGE_INSTALL=True to avoid this error\n",
      "      \n",
      "      More information is available at\n",
      "      https://github.com/scikit-learn/sklearn-pypi-package\n",
      "      [end of output]\n",
      "  \n",
      "  note: This error originates from a subprocess, and is likely not a problem with pip.\n",
      "error: subprocess-exited-with-error\n",
      "\n",
      "× Getting requirements to build wheel did not run successfully.\n",
      "│ exit code: 1\n",
      "╰─> See above for output.\n",
      "\n",
      "note: This error originates from a subprocess, and is likely not a problem with pip.\n",
      "\n",
      "[notice] A new release of pip is available: 24.1.1 -> 25.0.1\n",
      "[notice] To update, run: python.exe -m pip install --upgrade pip\n"
     ]
    }
   ],
   "source": [
    "pip install sklearn"
   ]
  },
  {
   "cell_type": "code",
   "execution_count": 23,
   "metadata": {},
   "outputs": [
    {
     "name": "stdout",
     "output_type": "stream",
     "text": [
      "Collecting scikit-learn\n",
      "  Downloading scikit_learn-1.6.1-cp312-cp312-win_amd64.whl.metadata (15 kB)\n",
      "Requirement already satisfied: numpy>=1.19.5 in c:\\users\\cvr\\appdata\\local\\programs\\python\\python312\\lib\\site-packages (from scikit-learn) (2.2.3)\n",
      "Requirement already satisfied: scipy>=1.6.0 in c:\\users\\cvr\\appdata\\local\\programs\\python\\python312\\lib\\site-packages (from scikit-learn) (1.15.2)\n",
      "Requirement already satisfied: joblib>=1.2.0 in c:\\users\\cvr\\appdata\\local\\programs\\python\\python312\\lib\\site-packages (from scikit-learn) (1.4.2)\n",
      "Collecting threadpoolctl>=3.1.0 (from scikit-learn)\n",
      "  Downloading threadpoolctl-3.5.0-py3-none-any.whl.metadata (13 kB)\n",
      "Downloading scikit_learn-1.6.1-cp312-cp312-win_amd64.whl (11.1 MB)\n",
      "   ---------------------------------------- 0.0/11.1 MB ? eta -:--:--\n",
      "   ---------------------------------------- 0.1/11.1 MB 1.3 MB/s eta 0:00:09\n",
      "    --------------------------------------- 0.2/11.1 MB 2.4 MB/s eta 0:00:05\n",
      "   -- ------------------------------------- 0.6/11.1 MB 4.5 MB/s eta 0:00:03\n",
      "   ---- ----------------------------------- 1.1/11.1 MB 6.6 MB/s eta 0:00:02\n",
      "   --------- ------------------------------ 2.5/11.1 MB 10.7 MB/s eta 0:00:01\n",
      "   ---------- ----------------------------- 3.0/11.1 MB 12.1 MB/s eta 0:00:01\n",
      "   -------------- ------------------------- 4.1/11.1 MB 13.2 MB/s eta 0:00:01\n",
      "   ------------------- -------------------- 5.3/11.1 MB 14.2 MB/s eta 0:00:01\n",
      "   --------------------- ------------------ 5.9/11.1 MB 14.0 MB/s eta 0:00:01\n",
      "   ----------------------- ---------------- 6.5/11.1 MB 13.8 MB/s eta 0:00:01\n",
      "   ------------------------ --------------- 6.9/11.1 MB 13.5 MB/s eta 0:00:01\n",
      "   -------------------------- ------------- 7.4/11.1 MB 13.1 MB/s eta 0:00:01\n",
      "   ---------------------------- ----------- 7.8/11.1 MB 12.8 MB/s eta 0:00:01\n",
      "   ----------------------------- ---------- 8.1/11.1 MB 12.4 MB/s eta 0:00:01\n",
      "   ------------------------------ --------- 8.4/11.1 MB 12.0 MB/s eta 0:00:01\n",
      "   ------------------------------- -------- 8.7/11.1 MB 11.6 MB/s eta 0:00:01\n",
      "   -------------------------------- ------- 9.0/11.1 MB 11.3 MB/s eta 0:00:01\n",
      "   --------------------------------- ------ 9.3/11.1 MB 11.1 MB/s eta 0:00:01\n",
      "   ---------------------------------- ----- 9.6/11.1 MB 10.8 MB/s eta 0:00:01\n",
      "   ----------------------------------- ---- 9.8/11.1 MB 10.5 MB/s eta 0:00:01\n",
      "   ------------------------------------ --- 10.1/11.1 MB 10.2 MB/s eta 0:00:01\n",
      "   ------------------------------------- -- 10.3/11.1 MB 10.4 MB/s eta 0:00:01\n",
      "   ------------------------------------- -- 10.5/11.1 MB 10.6 MB/s eta 0:00:01\n",
      "   -------------------------------------- - 10.7/11.1 MB 10.2 MB/s eta 0:00:01\n",
      "   ---------------------------------------  10.9/11.1 MB 9.9 MB/s eta 0:00:01\n",
      "   ---------------------------------------  11.1/11.1 MB 9.6 MB/s eta 0:00:01\n",
      "   ---------------------------------------- 11.1/11.1 MB 9.5 MB/s eta 0:00:00\n",
      "Downloading threadpoolctl-3.5.0-py3-none-any.whl (18 kB)\n",
      "Installing collected packages: threadpoolctl, scikit-learn\n",
      "Successfully installed scikit-learn-1.6.1 threadpoolctl-3.5.0\n",
      "Note: you may need to restart the kernel to use updated packages.\n"
     ]
    },
    {
     "name": "stderr",
     "output_type": "stream",
     "text": [
      "\n",
      "[notice] A new release of pip is available: 24.1.1 -> 25.0.1\n",
      "[notice] To update, run: python.exe -m pip install --upgrade pip\n"
     ]
    }
   ],
   "source": [
    "pip install scikit-learn\n"
   ]
  },
  {
   "cell_type": "code",
   "execution_count": null,
   "metadata": {},
   "outputs": [],
   "source": []
  }
 ],
 "metadata": {
  "kernelspec": {
   "display_name": "Python 3",
   "language": "python",
   "name": "python3"
  },
  "language_info": {
   "codemirror_mode": {
    "name": "ipython",
    "version": 3
   },
   "file_extension": ".py",
   "mimetype": "text/x-python",
   "name": "python",
   "nbconvert_exporter": "python",
   "pygments_lexer": "ipython3",
   "version": "3.12.3"
  }
 },
 "nbformat": 4,
 "nbformat_minor": 2
}
